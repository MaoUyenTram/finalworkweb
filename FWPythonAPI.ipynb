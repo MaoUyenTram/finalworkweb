{
 "cells": [
  {
   "cell_type": "code",
   "execution_count": 1,
   "metadata": {},
   "outputs": [],
   "source": [
    "from flask import Flask,request\n",
    "import cv2\n",
    "import numpy as np\n",
    "import base64\n",
    "from PIL import Image\n",
    "from io import BytesIO\n"
   ]
  },
  {
   "cell_type": "code",
   "execution_count": 2,
   "metadata": {},
   "outputs": [],
   "source": [
    "app = Flask(__name__)"
   ]
  },
  {
   "cell_type": "code",
   "execution_count": 3,
   "metadata": {},
   "outputs": [],
   "source": [
    "# antwoord code van Nathancy\n",
    "# https://stackoverflow.com/questions/58613825/get-boundary-from-canny-edges-and-remove-the-background-of-an-image\n",
    "# geraadpleegd op 17/nomeber 2020 \n",
    "\n",
    "def rb(file,n):\n",
    "    npimg = np.fromfile(file, np.uint8)\n",
    "    image = cv2.imdecode(npimg, cv2.IMREAD_COLOR)\n",
    "    image = image[:,:,::-1]\n",
    "    height, width, channels = image.shape\n",
    "    if channels < 4:\n",
    "        image = cv2.cvtColor(image, cv2.COLOR_BGR2BGRA)\n",
    "    original = image.copy()\n",
    "    mask = np.zeros(image.shape, dtype=np.uint8)\n",
    "\n",
    "    gray = cv2.cvtColor(image, cv2.COLOR_BGR2GRAY)\n",
    "\n",
    "    thresh = cv2.threshold(gray,n, 255, cv2.THRESH_BINARY_INV)[1]\n",
    "    if np.any(thresh[0,0] != 0):\n",
    "        thresh = cv2.threshold(gray,n, 255, cv2.THRESH_BINARY)[1]\n",
    "\n",
    "    kernel = cv2.getStructuringElement(cv2.MORPH_RECT, (5,5))\n",
    "    opening = cv2.morphologyEx(thresh, cv2.MORPH_OPEN, kernel, iterations=3)\n",
    "    \n",
    "    cnts = cv2.findContours(opening, cv2.RETR_EXTERNAL, cv2.CHAIN_APPROX_SIMPLE)\n",
    "    cnts = cnts[0] if len(cnts) == 2 else cnts[1]\n",
    "    cnts = sorted(cnts, key=cv2.contourArea, reverse=True)\n",
    "    for c in cnts:\n",
    "        cv2.drawContours(mask, [c], -1, (255,255,255), -1)\n",
    "        break\n",
    "\n",
    "    close = cv2.morphologyEx(mask, cv2.MORPH_CLOSE, kernel, iterations=4)\n",
    "    close = cv2.cvtColor(close, cv2.COLOR_BGR2GRAY)\n",
    "    result = cv2.bitwise_and(original, original, mask=close)\n",
    "    result[close==0] = (0,0,0,0)\n",
    "\n",
    "    cnt = sorted(cnts, key=cv2.contourArea)[-1]\n",
    "    x,y,w,h = cv2.boundingRect(cnt)\n",
    "    final = result[y:y+h, x:x+w]\n",
    "\n",
    "# antwoord code van Eugene V\n",
    "# https://stackoverflow.com/questions/31826335/how-to-convert-pil-image-image-object-to-base64-string\n",
    "# geraadpleegd op 24 Februari 2021\n",
    "    \n",
    "    pil_image = Image.fromarray(final.astype('uint8'), 'RGBA')\n",
    "    buffered = BytesIO()\n",
    "    pil_image.save(buffered, format=\"PNG\")\n",
    "    encoded_img = base64.encodebytes(buffered.getvalue()).decode('ascii') # encode as base64\n",
    "    #print(encoded_img)\n",
    "    return encoded_img\n"
   ]
  },
  {
   "cell_type": "code",
   "execution_count": 4,
   "metadata": {},
   "outputs": [],
   "source": [
    "@app.route('/img',methods = ['POST'])\n",
    "def img():\n",
    "    if request.method == 'POST':\n",
    "        file = request.files.get(\"image\")\n",
    "        n = request.values.get(\"n\")\n",
    "        return str(rb(file,int(n)))\n",
    "#    files = request.files.getlist(\"image\")\n",
    "#    for file in files:\n",
    "#        imglist.append(str(rb(file)))\n",
    "#    return json.dumps(imglist)\n"
   ]
  },
  {
   "cell_type": "code",
   "execution_count": null,
   "metadata": {},
   "outputs": [
    {
     "name": "stdout",
     "output_type": "stream",
     "text": [
      " * Serving Flask app \"__main__\" (lazy loading)\n",
      " * Environment: production\n",
      "   WARNING: This is a development server. Do not use it in a production deployment.\n",
      "   Use a production WSGI server instead.\n",
      " * Debug mode: off\n"
     ]
    },
    {
     "name": "stderr",
     "output_type": "stream",
     "text": [
      " * Running on http://127.0.0.1:5000/ (Press CTRL+C to quit)\n",
      "127.0.0.1 - - [25/Aug/2021 12:38:58] \"\u001b[37mPOST /img HTTP/1.1\u001b[0m\" 200 -\n",
      "127.0.0.1 - - [25/Aug/2021 12:39:02] \"\u001b[37mPOST /img HTTP/1.1\u001b[0m\" 200 -\n",
      "127.0.0.1 - - [25/Aug/2021 12:39:30] \"\u001b[37mPOST /img HTTP/1.1\u001b[0m\" 200 -\n",
      "127.0.0.1 - - [25/Aug/2021 12:39:31] \"\u001b[37mPOST /img HTTP/1.1\u001b[0m\" 200 -\n",
      "127.0.0.1 - - [25/Aug/2021 12:40:50] \"\u001b[37mPOST /img HTTP/1.1\u001b[0m\" 200 -\n",
      "127.0.0.1 - - [25/Aug/2021 12:40:51] \"\u001b[37mPOST /img HTTP/1.1\u001b[0m\" 200 -\n",
      "127.0.0.1 - - [25/Aug/2021 12:40:53] \"\u001b[37mPOST /img HTTP/1.1\u001b[0m\" 200 -\n",
      "127.0.0.1 - - [25/Aug/2021 12:40:54] \"\u001b[37mPOST /img HTTP/1.1\u001b[0m\" 200 -\n",
      "127.0.0.1 - - [25/Aug/2021 12:40:55] \"\u001b[37mPOST /img HTTP/1.1\u001b[0m\" 200 -\n",
      "127.0.0.1 - - [25/Aug/2021 12:40:58] \"\u001b[37mPOST /img HTTP/1.1\u001b[0m\" 200 -\n",
      "127.0.0.1 - - [25/Aug/2021 12:40:59] \"\u001b[37mPOST /img HTTP/1.1\u001b[0m\" 200 -\n",
      "127.0.0.1 - - [25/Aug/2021 12:41:00] \"\u001b[37mPOST /img HTTP/1.1\u001b[0m\" 200 -\n",
      "127.0.0.1 - - [25/Aug/2021 12:41:54] \"\u001b[37mPOST /img HTTP/1.1\u001b[0m\" 200 -\n",
      "127.0.0.1 - - [25/Aug/2021 12:41:55] \"\u001b[37mPOST /img HTTP/1.1\u001b[0m\" 200 -\n",
      "127.0.0.1 - - [25/Aug/2021 12:41:56] \"\u001b[37mPOST /img HTTP/1.1\u001b[0m\" 200 -\n",
      "127.0.0.1 - - [25/Aug/2021 12:41:57] \"\u001b[37mPOST /img HTTP/1.1\u001b[0m\" 200 -\n",
      "127.0.0.1 - - [25/Aug/2021 12:41:58] \"\u001b[37mPOST /img HTTP/1.1\u001b[0m\" 200 -\n",
      "127.0.0.1 - - [25/Aug/2021 12:42:01] \"\u001b[37mPOST /img HTTP/1.1\u001b[0m\" 200 -\n",
      "127.0.0.1 - - [25/Aug/2021 12:42:02] \"\u001b[37mPOST /img HTTP/1.1\u001b[0m\" 200 -\n",
      "127.0.0.1 - - [25/Aug/2021 12:42:03] \"\u001b[37mPOST /img HTTP/1.1\u001b[0m\" 200 -\n",
      "127.0.0.1 - - [25/Aug/2021 12:42:04] \"\u001b[37mPOST /img HTTP/1.1\u001b[0m\" 200 -\n",
      "127.0.0.1 - - [25/Aug/2021 12:42:07] \"\u001b[37mPOST /img HTTP/1.1\u001b[0m\" 200 -\n",
      "127.0.0.1 - - [25/Aug/2021 12:42:08] \"\u001b[37mPOST /img HTTP/1.1\u001b[0m\" 200 -\n",
      "127.0.0.1 - - [25/Aug/2021 12:42:09] \"\u001b[37mPOST /img HTTP/1.1\u001b[0m\" 200 -\n",
      "127.0.0.1 - - [25/Aug/2021 16:29:05] \"\u001b[37mPOST /img HTTP/1.1\u001b[0m\" 200 -\n",
      "127.0.0.1 - - [25/Aug/2021 16:29:07] \"\u001b[37mPOST /img HTTP/1.1\u001b[0m\" 200 -\n",
      "127.0.0.1 - - [25/Aug/2021 16:29:09] \"\u001b[37mPOST /img HTTP/1.1\u001b[0m\" 200 -\n",
      "127.0.0.1 - - [25/Aug/2021 16:29:11] \"\u001b[37mPOST /img HTTP/1.1\u001b[0m\" 200 -\n",
      "127.0.0.1 - - [25/Aug/2021 16:29:12] \"\u001b[37mPOST /img HTTP/1.1\u001b[0m\" 200 -\n",
      "127.0.0.1 - - [25/Aug/2021 16:29:13] \"\u001b[37mPOST /img HTTP/1.1\u001b[0m\" 200 -\n",
      "127.0.0.1 - - [25/Aug/2021 16:29:14] \"\u001b[37mPOST /img HTTP/1.1\u001b[0m\" 200 -\n",
      "127.0.0.1 - - [25/Aug/2021 16:29:17] \"\u001b[37mPOST /img HTTP/1.1\u001b[0m\" 200 -\n",
      "127.0.0.1 - - [25/Aug/2021 16:29:18] \"\u001b[37mPOST /img HTTP/1.1\u001b[0m\" 200 -\n",
      "127.0.0.1 - - [25/Aug/2021 16:29:19] \"\u001b[37mPOST /img HTTP/1.1\u001b[0m\" 200 -\n",
      "127.0.0.1 - - [25/Aug/2021 16:33:35] \"\u001b[37mPOST /img HTTP/1.1\u001b[0m\" 200 -\n",
      "127.0.0.1 - - [25/Aug/2021 16:33:37] \"\u001b[37mPOST /img HTTP/1.1\u001b[0m\" 200 -\n",
      "127.0.0.1 - - [25/Aug/2021 16:33:37] \"\u001b[37mPOST /img HTTP/1.1\u001b[0m\" 200 -\n",
      "127.0.0.1 - - [25/Aug/2021 16:33:39] \"\u001b[37mPOST /img HTTP/1.1\u001b[0m\" 200 -\n",
      "127.0.0.1 - - [25/Aug/2021 16:33:40] \"\u001b[37mPOST /img HTTP/1.1\u001b[0m\" 200 -\n",
      "127.0.0.1 - - [25/Aug/2021 16:33:41] \"\u001b[37mPOST /img HTTP/1.1\u001b[0m\" 200 -\n",
      "127.0.0.1 - - [25/Aug/2021 16:33:42] \"\u001b[37mPOST /img HTTP/1.1\u001b[0m\" 200 -\n",
      "127.0.0.1 - - [25/Aug/2021 16:33:44] \"\u001b[37mPOST /img HTTP/1.1\u001b[0m\" 200 -\n",
      "127.0.0.1 - - [25/Aug/2021 16:33:45] \"\u001b[37mPOST /img HTTP/1.1\u001b[0m\" 200 -\n",
      "127.0.0.1 - - [25/Aug/2021 16:33:47] \"\u001b[37mPOST /img HTTP/1.1\u001b[0m\" 200 -\n",
      "127.0.0.1 - - [25/Aug/2021 16:33:48] \"\u001b[37mPOST /img HTTP/1.1\u001b[0m\" 200 -\n",
      "127.0.0.1 - - [25/Aug/2021 16:33:50] \"\u001b[37mPOST /img HTTP/1.1\u001b[0m\" 200 -\n",
      "127.0.0.1 - - [25/Aug/2021 16:36:30] \"\u001b[37mPOST /img HTTP/1.1\u001b[0m\" 200 -\n",
      "127.0.0.1 - - [25/Aug/2021 16:36:32] \"\u001b[37mPOST /img HTTP/1.1\u001b[0m\" 200 -\n",
      "127.0.0.1 - - [25/Aug/2021 16:36:34] \"\u001b[37mPOST /img HTTP/1.1\u001b[0m\" 200 -\n",
      "127.0.0.1 - - [25/Aug/2021 16:36:35] \"\u001b[37mPOST /img HTTP/1.1\u001b[0m\" 200 -\n",
      "127.0.0.1 - - [25/Aug/2021 19:03:12] \"\u001b[37mPOST /img HTTP/1.1\u001b[0m\" 200 -\n",
      "127.0.0.1 - - [25/Aug/2021 19:03:14] \"\u001b[37mPOST /img HTTP/1.1\u001b[0m\" 200 -\n",
      "127.0.0.1 - - [25/Aug/2021 19:03:16] \"\u001b[37mPOST /img HTTP/1.1\u001b[0m\" 200 -\n",
      "127.0.0.1 - - [25/Aug/2021 19:03:17] \"\u001b[37mPOST /img HTTP/1.1\u001b[0m\" 200 -\n",
      "127.0.0.1 - - [25/Aug/2021 19:03:18] \"\u001b[37mPOST /img HTTP/1.1\u001b[0m\" 200 -\n",
      "127.0.0.1 - - [25/Aug/2021 19:03:20] \"\u001b[37mPOST /img HTTP/1.1\u001b[0m\" 200 -\n",
      "127.0.0.1 - - [25/Aug/2021 19:12:02] \"\u001b[37mPOST /img HTTP/1.1\u001b[0m\" 200 -\n",
      "127.0.0.1 - - [25/Aug/2021 19:12:04] \"\u001b[37mPOST /img HTTP/1.1\u001b[0m\" 200 -\n",
      "127.0.0.1 - - [25/Aug/2021 19:12:06] \"\u001b[37mPOST /img HTTP/1.1\u001b[0m\" 200 -\n",
      "127.0.0.1 - - [25/Aug/2021 19:12:07] \"\u001b[37mPOST /img HTTP/1.1\u001b[0m\" 200 -\n",
      "127.0.0.1 - - [25/Aug/2021 19:12:08] \"\u001b[37mPOST /img HTTP/1.1\u001b[0m\" 200 -\n",
      "127.0.0.1 - - [25/Aug/2021 19:12:10] \"\u001b[37mPOST /img HTTP/1.1\u001b[0m\" 200 -\n"
     ]
    }
   ],
   "source": [
    "app.run()"
   ]
  },
  {
   "cell_type": "raw",
   "metadata": {},
   "source": []
  }
 ],
 "metadata": {
  "kernelspec": {
   "display_name": "Python 3",
   "language": "python",
   "name": "python3"
  },
  "language_info": {
   "codemirror_mode": {
    "name": "ipython",
    "version": 3
   },
   "file_extension": ".py",
   "mimetype": "text/x-python",
   "name": "python",
   "nbconvert_exporter": "python",
   "pygments_lexer": "ipython3",
   "version": "3.7.4"
  }
 },
 "nbformat": 4,
 "nbformat_minor": 2
}
